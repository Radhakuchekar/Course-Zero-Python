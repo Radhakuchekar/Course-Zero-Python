{
 "cells": [
  {
   "cell_type": "markdown",
   "metadata": {},
   "source": [
    "DSECLPFDS - Python Exercises for Practice (S1 to S3)\n",
    "Instructions: Do not use any Python libraries and write the\n",
    "following codes from scratch for best learning/ revision.\n",
    "1. Given a number, find the sum of its digits. Take the number as\n",
    "an input from the user.\n",
    "2. Given a number, check whether the given number is an\n",
    "Armstrong number or not.\n",
    "Example: 153 = 1*1*1 + 5*5*5 + 3*3*3\n",
    "153 is an Armstrong number of order 3.\n",
    "Inputs from the user will be number and order n.\n",
    "3. Given a string, write a python function to check if it is\n",
    "palindrome or not. A string is said to be palindrome if the reverse\n",
    "of the string is the same as string. For example, “malayalam” is a\n",
    "palindrome, but “music” is not a palindrome.\n",
    "4. Given an array which may contain duplicates, print all elements\n",
    "and their frequencies.\n",
    "5. Given a number n, write a function to print all prime factors of\n",
    "n. For example, if the input number is 12, then output should be\n",
    "“2 2 3”.\n",
    "6. Given two numbers n and r, find the value of nCr (binomial\n",
    "coefficient: nCr = (n!) / (r! * (n-r)!))\n",
    "7. Searching: Given a sorted array arr[] of n elements, write a\n",
    "function to search a given element x in arr[]. Do it using linear\n",
    "and binary search techniques.\n",
    "8. Input a text file (containing 1 or more paragraphs of English\n",
    "text) from the user, parse this file to display the frequency of\n",
    "occurrence of each word in this text file. Find the 3 most frequent\n",
    "words as well.\n",
    "*****"
   ]
  },
  {
   "cell_type": "code",
   "execution_count": 1,
   "metadata": {},
   "outputs": [
    {
     "name": "stdout",
     "output_type": "stream",
     "text": [
      "1234\n",
      "Sum of digits in number is  10\n"
     ]
    }
   ],
   "source": [
    "#1.Given a number, find the sum of its digits. Take the number as an input from the user.\n",
    "ans=0\n",
    "for i in input():ans += int(i)\n",
    "print('Sum of digits in number is ',ans)"
   ]
  },
  {
   "cell_type": "code",
   "execution_count": 2,
   "metadata": {},
   "outputs": [
    {
     "name": "stdout",
     "output_type": "stream",
     "text": [
      "153 3\n",
      "153 is Armstrong\n"
     ]
    }
   ],
   "source": [
    "# 2. Given a number, check whether the given number is an Armstrong number or not.\n",
    "# ... Example: 153 = 1*1*1 + 5*5*5 + 3*3*3 153 is an Armstrong number of order 3. Inputs from the user will be number and order n.\n",
    "num, order= input().split()\n",
    "order = int(order)\n",
    "powered= [int(i)**order for i in num]\n",
    "if sum(powered)==int(num):\n",
    "    print(num +' is Armstrong')\n",
    "else:\n",
    "    print(num +' is Not Armstrong')\n",
    "    \n"
   ]
  },
  {
   "cell_type": "code",
   "execution_count": 3,
   "metadata": {},
   "outputs": [
    {
     "name": "stdout",
     "output_type": "stream",
     "text": [
      "nitin\n",
      "nitin is palindrome\n"
     ]
    }
   ],
   "source": [
    "#3. Given a string, write a python function to check if it is palindrome or not. A string is said to be palindrome if the reverse of the string is the same as string. For example, “malayalam” is a palindrome, but “music” is not a palindrome.\n",
    "input_str= input().lower()\n",
    "str_len=len(input_str)\n",
    "\n",
    "if input_str ==input_str[::-1] :\n",
    "    print(input_str+' is palindrome')\n",
    "else:\n",
    "    print(input_str+' is not palindrome')"
   ]
  },
  {
   "cell_type": "code",
   "execution_count": 4,
   "metadata": {},
   "outputs": [
    {
     "data": {
      "text/plain": [
       "{34: 1, 39: 3, 12: 1, 13: 1, 46: 1, 14: 1, 23: 1, 87: 1}"
      ]
     },
     "execution_count": 4,
     "metadata": {},
     "output_type": "execute_result"
    }
   ],
   "source": [
    "#4. Given an array which may contain duplicates, print all elements and their frequencies.\n",
    "# arr=list(map(int, input().split()))\n",
    "arr=[12,13,14,46,34,87,23,39,39,39]\n",
    "freq_dict = {num: arr.count(num) for num in set(arr)}\n",
    "freq_dict"
   ]
  },
  {
   "cell_type": "code",
   "execution_count": 5,
   "metadata": {},
   "outputs": [
    {
     "name": "stdout",
     "output_type": "stream",
     "text": [
      "12\n",
      "2 2 3\n"
     ]
    }
   ],
   "source": [
    "#5. Given a number n, write a function to print all prime factors of n. For example, if the input number is 12, then output should be “2 2 3”.\n",
    "# num = int(input())\n",
    "num =int(input())\n",
    "prime_factors=[]\n",
    "allPrimeLessThanNumber=([i for i in range(2, num//2+1) if all((i % j) != 0 for j in range(2, i))])\n",
    "def getPrimeFactors(num):\n",
    "    if num == 1:\n",
    "            return\n",
    "    for i in allPrimeLessThanNumber:\n",
    "        if num % i==0:\n",
    "            prime_factors.append(i)\n",
    "            return(getPrimeFactors(num // i))\n",
    "            \n",
    "getPrimeFactors(num)\n",
    "print(*prime_factors, sep=' ')\n",
    "    \n",
    "    "
   ]
  },
  {
   "cell_type": "code",
   "execution_count": 6,
   "metadata": {},
   "outputs": [
    {
     "name": "stdout",
     "output_type": "stream",
     "text": [
      "3 2\n"
     ]
    },
    {
     "data": {
      "text/plain": [
       "3.0"
      ]
     },
     "execution_count": 6,
     "metadata": {},
     "output_type": "execute_result"
    }
   ],
   "source": [
    "# 6. Given two numbers n and r, find the value of nCr (binomial coefficient: nCr = (n!) / (r! * (n-r)!))\n",
    "def factorial(num):\n",
    "    if num==1:\n",
    "        return num\n",
    "    else:\n",
    "        return num*factorial(num-1)\n",
    "n, r = map(int, input().split())\n",
    "binomial_coefficient=factorial(n)/(factorial(r)*factorial(n-r)) \n",
    "binomial_coefficient"
   ]
  },
  {
   "cell_type": "code",
   "execution_count": 7,
   "metadata": {},
   "outputs": [
    {
     "name": "stdout",
     "output_type": "stream",
     "text": [
      "7 [12, 13, 14, 23, 34, 46, 87] 23 87\n",
      "4 [23, 34, 46, 87] 46 87\n",
      "2 [46, 87] 87 87\n",
      "Number found\n",
      "Number found\n"
     ]
    }
   ],
   "source": [
    "#7. Searching: Given a sorted array arr[] of n elements, write a function to search a given element x in arr[]. Do it using linear and binary search techniques.\n",
    "# arr = map(int, input().split())\n",
    "# find_num= int(input())\n",
    "arr=[12,13,14,46,34,87,23]\n",
    "find_num=87\n",
    "sorted_arr= sorted(arr)\n",
    "def linear_search(sorted_arr,num):\n",
    "    for i in sorted_arr:\n",
    "        if i ==num:\n",
    "            print('Number found')\n",
    "            return\n",
    "    else:\n",
    "        print('Number not found')\n",
    "def binary_search(sorted_arr, num):\n",
    "    middle= len(sorted_arr)//2\n",
    "    print(len(sorted_arr), sorted_arr,sorted_arr[middle], num)\n",
    "    if len(sorted_arr)==1:\n",
    "        print('Number not found')    \n",
    "        return\n",
    "    if sorted_arr[middle] == num:\n",
    "        print('Number found')\n",
    "        return\n",
    "    elif(sorted_arr[middle] > num):\n",
    "        binary_search(sorted_arr[:len(sorted_arr)//2], num)\n",
    "    else:\n",
    "        binary_search(sorted_arr[len(sorted_arr)//2:], num)\n",
    "\n",
    "binary_search(sorted_arr, find_num)\n",
    "linear_search(sorted_arr, find_num)\n"
   ]
  },
  {
   "cell_type": "code",
   "execution_count": 8,
   "metadata": {},
   "outputs": [
    {
     "data": {
      "text/plain": [
       "{'a': 7,\n",
       " 'solve': 7,\n",
       " 'to': 7,\n",
       " 'exercise': 4,\n",
       " 'is': 7,\n",
       " 'this': 4,\n",
       " 'sample': 7,\n",
       " 'exercisethis': 3,\n",
       " 'text': 7,\n",
       " 'file': 7}"
      ]
     },
     "execution_count": 8,
     "metadata": {},
     "output_type": "execute_result"
    }
   ],
   "source": [
    "# 8 . Input a text file (containing 1 or more paragraphs of English\n",
    "# text) from the user, parse this file to display the frequency of\n",
    "# occurrence of each word in this text file. Find the 3 most frequent\n",
    "# words as well.\n",
    "import os\n",
    "import re\n",
    "path =os.getcwd()\n",
    "sample_file= open(path+'\\\\sample.txt', 'r')\n",
    "file_txt= sample_file.read()\n",
    "tokens= list(re.split(' |\\n',file_txt))\n",
    "token_freq={i: tokens.count(i) for i in set(tokens) }\n",
    "token_freq"
   ]
  },
  {
   "cell_type": "code",
   "execution_count": null,
   "metadata": {},
   "outputs": [],
   "source": []
  }
 ],
 "metadata": {
  "kernelspec": {
   "display_name": "Python 3",
   "language": "python",
   "name": "python3"
  },
  "language_info": {
   "codemirror_mode": {
    "name": "ipython",
    "version": 3
   },
   "file_extension": ".py",
   "mimetype": "text/x-python",
   "name": "python",
   "nbconvert_exporter": "python",
   "pygments_lexer": "ipython3",
   "version": "3.7.1"
  }
 },
 "nbformat": 4,
 "nbformat_minor": 2
}
